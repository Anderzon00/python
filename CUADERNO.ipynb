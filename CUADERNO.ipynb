{
 "cells": [
  {
   "cell_type": "code",
   "execution_count": null,
   "metadata": {},
   "outputs": [],
   "source": [
    "a = 700  # Usamos el valor de 'a' ya definido\n",
    "\n",
    "def es_primo(n):\n",
    "    if n <= 1:\n",
    "        return False\n",
    "    for j in range(2, int(n**0.5) + 1):\n",
    "        if n % j == 0:\n",
    "            return False\n",
    "    return True\n",
    "\n",
    "for i in range(0, a):\n",
    "    print(i, ' ', end='')\n",
    "    if es_primo(i):\n",
    "        print(f\"{i} es primo\")\n",
    "    else:\n",
    "        print(f\"{i} no es primo\")\n",
    "print(\"Fin del programa\")"
   ]
  },
  {
   "cell_type": "code",
   "execution_count": null,
   "metadata": {},
   "outputs": [],
   "source": [
    "a= int(input(\"ingresa un numero: \"))\n",
    "\n",
    "resultado= 1/(a+(1/(a+(1/(a+(1/a))))))\n",
    "print(resultado)"
   ]
  },
  {
   "cell_type": "code",
   "execution_count": null,
   "metadata": {},
   "outputs": [],
   "source": [
    "\n",
    "jhon=3\n",
    "mary=5\n",
    "adam=6\n",
    "print(jhon,mary,adam)\n",
    "total_apples=jhon+mary+adam\n",
    "print(total_apples)\n",
    "\n",
    "jhon=int(input(\"ingresa el numero de manzanas de jhon: \"))\n",
    "mary=int(input(\"ingresa el numero de manzanas de mary: \"))\n",
    "adam=int(input(\"ingresa el numero de manzanas de adam: \"))\n",
    "print(jhon,mary,adam)\n",
    "total_apples=jhon+mary+adam\n",
    "print(\"el total de manzanas es: \",total_apples)"
   ]
  },
  {
   "cell_type": "code",
   "execution_count": 3,
   "metadata": {},
   "outputs": [
    {
     "name": "stdout",
     "output_type": "stream",
     "text": [
      "esto es un texto\n",
      "de varias lineas\n",
      "\n"
     ]
    }
   ],
   "source": [
    "a= \"\"\"esto es un texto\n",
    "de varias lineas\n",
    "\"\"\"\n",
    "print(a)"
   ]
  }
 ],
 "metadata": {
  "kernelspec": {
   "display_name": "Python 3",
   "language": "python",
   "name": "python3"
  },
  "language_info": {
   "codemirror_mode": {
    "name": "ipython",
    "version": 3
   },
   "file_extension": ".py",
   "mimetype": "text/x-python",
   "name": "python",
   "nbconvert_exporter": "python",
   "pygments_lexer": "ipython3",
   "version": "3.13.2"
  }
 },
 "nbformat": 4,
 "nbformat_minor": 2
}

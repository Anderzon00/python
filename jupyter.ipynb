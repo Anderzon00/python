{
 "cells": [
  {
   "cell_type": "code",
   "execution_count": 7,
   "metadata": {},
   "outputs": [
    {
     "name": "stdout",
     "output_type": "stream",
     "text": [
      "1\n",
      "121\n",
      "12321\n",
      "1234321\n",
      "123454321\n"
     ]
    }
   ],
   "source": [
    "n = int(input(\"Enter the size of the palindromic triangle: \"))\n",
    "\n",
    "for i in range(1, n + 1):\n",
    "    # Print the left half of the triangle\n",
    "    for j in range(1, i + 1):\n",
    "        print(j, end=\"\")\n",
    "    # Print the right half of the triangle\n",
    "    for j in range(i - 1, 0, -1):\n",
    "        print(j, end=\"\")\n",
    "    # Move to the next line\n",
    "    print()\n",
    "\n",
    " "
   ]
  },
  {
   "cell_type": "markdown",
   "metadata": {},
   "source": [
    "ejercicios contenedores"
   ]
  },
  {
   "cell_type": "code",
   "execution_count": 2,
   "metadata": {},
   "outputs": [
    {
     "name": "stdout",
     "output_type": "stream",
     "text": [
      "['1', '2', '3', '4', '5']\n"
     ]
    }
   ],
   "source": [
    "# crear lista\n",
    "mi_lista=[ ]\n",
    "#agregar elementos con la funcion append()\n",
    "mi_lista.append(\"1\")\n",
    "mi_lista.append(\"2\")\n",
    "mi_lista.append(\"3\")\n",
    "mi_lista.append(\"4\")\n",
    "mi_lista.append(\"5\")\n",
    "print(mi_lista)"
   ]
  },
  {
   "cell_type": "code",
   "execution_count": 3,
   "metadata": {},
   "outputs": [
    {
     "name": "stdout",
     "output_type": "stream",
     "text": [
      "Los elementos introducidos son: ['1', '2', '3', '4', '5']\n",
      "Los elementos nuevos son: ['1', '2', '3', '4']\n"
     ]
    }
   ],
   "source": [
    "# Usar un bucle  para pedir al usuario 5 elementos\n",
    "mi_lista=[ ]\n",
    "\n",
    "for i in range(5):\n",
    "    # Pedir al usuario que ingrese un elemento\n",
    "    elemento = input(f\"Introduce el elemento {i+1}: \")\n",
    "    # Agregar el elemento a la lista\n",
    "    mi_lista.append(elemento)\n",
    "\n",
    "# Imprimir la lista de elementos\n",
    "print(\"Los elementos introducidos son:\", mi_lista)\n",
    "elemento_eliminar = input(f\"Introduce el elemento: \")\n",
    "mi_lista.remove(elemento_eliminar)\n",
    "print(\"Los elementos nuevos son:\", mi_lista)"
   ]
  },
  {
   "cell_type": "code",
   "execution_count": 10,
   "metadata": {},
   "outputs": [
    {
     "name": "stdout",
     "output_type": "stream",
     "text": [
      "primeros tres elementos [1, 2, 3]\n",
      "primeros elementos 3 al 6  [3, 4, 5, 6]\n",
      "ultimos  dos elementos [9, 10]\n"
     ]
    }
   ],
   "source": [
    "mi_lista= [1,2,3,4,5,6,7,8,9,10]\n",
    "print(\"primeros tres elementos\",mi_lista[0:3])\n",
    "print(\"primeros elementos 3 al 6 \",mi_lista[2:6])\n",
    "print(\"ultimos  dos elementos\",mi_lista[-2:])"
   ]
  },
  {
   "cell_type": "code",
   "execution_count": 28,
   "metadata": {},
   "outputs": [
    {
     "name": "stdout",
     "output_type": "stream",
     "text": [
      "la lista de contactos es ['carlos', 'andres', 'luis', 'paul', 'sebastian']\n",
      "la lista de numeros es [314321232, 315321232, 3004323432, 3134432234, 3215543323]\n",
      "la nueva lista de contactos es ['carlos', 'andres', 'luis', 'paul', 'sebastian', 'teresa', 'maria', 'sofia']\n",
      "la  nueva lista de numeros  es [314321232, 315321232, 3004323432, 3134432234, 3215543323, 3212232337, 3012232232, 3212234349] \n",
      "la lista contactos modfificados es ['andres', 'jimena', 'mauro', 'paul', 'sebastian', 'teresa', 'maria', 'sofia']\n",
      "la lista de numeros modfificados es [3212232323, 3143257867, 3023432232, 3134432234, 3215543323, 3212232337, 3012232232, 3212234349] \n",
      "la lista contactos eliminados es ['mauro', 'paul', 'sebastian', 'teresa', 'maria', 'sofia']\n",
      "la lista de numeros eliminados es [3023432232, 3134432234, 3215543323, 3212232337, 3012232232, 3212234349] \n",
      "la lista contactos eliminados es ['mauro', 'paul', 'sebastian']\n",
      "la lista de numeros eliminados es [3023432232, 3134432234, 3215543323] \n"
     ]
    }
   ],
   "source": [
    "#creación de listas de contactos y números\n",
    "lista_contactos= [\"carlos\",\"andres\",\"luis\",\"paul\",\"sebastian\"]\n",
    "lista_numeros= [314321232,315321232,3004323432,3134432234,3215543323]\n",
    "print(\"la lista de contactos es\", lista_contactos )\n",
    "print(\"la lista de numeros es\", lista_numeros )\n",
    "\n",
    "#añadir tres elementos a cada lista\n",
    "lista_contactos.append(\"teresa\" )\n",
    "lista_contactos.append( \"maria\" )\n",
    "lista_contactos.append( \"sofia\")\n",
    "lista_numeros.append(3212232337 )\n",
    "lista_numeros.append(3012232232)\n",
    "lista_numeros.append(3212234349)\n",
    "\n",
    "print(f\"la nueva lista de contactos es {lista_contactos}\")\n",
    "print(f\"la  nueva lista de numeros  es {lista_numeros} \")\n",
    "\n",
    "#editar o modificar tres primeros elementos \n",
    "lista_contactos[0]=\"andres\"\n",
    "lista_contactos[1]=\"jimena\"\n",
    "lista_contactos[2]=\"mauro\"\n",
    "lista_numeros[0]=3212232323\n",
    "lista_numeros[1]=3143257867\n",
    "lista_numeros[2]=3023432232\n",
    "print(f\"la lista contactos modfificados es {lista_contactos}\")\n",
    "print(f\"la lista de numeros modfificados es {lista_numeros} \")\n",
    "\n",
    "#elininar dos elementos de cada lista\n",
    "lista_contactos.remove(\"andres\")\n",
    "lista_contactos.remove(\"jimena\")\n",
    "lista_numeros.remove(3212232323)\n",
    "lista_numeros.remove(3143257867)\n",
    "\n",
    "print(f\"la lista contactos eliminados es {lista_contactos}\")\n",
    "print(f\"la lista de numeros eliminados es {lista_numeros} \")\n",
    "\n",
    "#dejar solo tres elementos de cada lista \n",
    "\n",
    "nueva_lista_contactos=lista_contactos[:3]\n",
    "nueva_lista_numeros=lista_numeros[:3]\n",
    "\n",
    "print(f\"la lista contactos eliminados es {nueva_lista_contactos}\")\n",
    "print(f\"la lista de numeros eliminados es {nueva_lista_numeros} \")"
   ]
  },
  {
   "cell_type": "markdown",
   "metadata": {},
   "source": [
    "ejercicios tuplas"
   ]
  },
  {
   "cell_type": "code",
   "execution_count": 29,
   "metadata": {},
   "outputs": [
    {
     "name": "stdout",
     "output_type": "stream",
     "text": [
      "('enere', 'febrero', 'marzo')\n"
     ]
    }
   ],
   "source": [
    "#crear una tuplacon tres elementos, intentar modificar elementos \n",
    "\n",
    "mi_tupla= ( \"enere\",\"febrero\",\"marzo\")\n",
    "print(mi_tupla)\n"
   ]
  },
  {
   "cell_type": "markdown",
   "metadata": {},
   "source": [
    " "
   ]
  },
  {
   "cell_type": "code",
   "execution_count": 4,
   "metadata": {},
   "outputs": [
    {
     "name": "stdout",
     "output_type": "stream",
     "text": [
      "{'paciente1': {'Nombre': 'luis velez', 'Peso': '60kg', 'altura': '1,60m', 'edad': '32A', 'RH': 'O+', 'enfermedad_cronica': 'Diabetes'}}\n",
      "{'paciente1': {'Nombre': 'luis velez', 'Peso': '60kg', 'altura': '1,60m', 'edad': '32A', 'RH': 'O+', 'enfermedad_cronica': 'Diabetes'}, 'paciente2': {'Nombre': 'carloa segura', 'Peso': '80kg', 'altura': '1,80m', 'edad': '80A', 'RH': 'A+', 'eenfermedad_cronica': 'rinitis', 'cronica': 'no'}}\n",
      "el paciente uno es: luis velez\n",
      "la enfermedad de luis velez es: Diabetes\n",
      "Nombre del paciente1 es: luis velez\n",
      "enfermedad_cronica del paciente1 es: Diabetes\n",
      "Nombre del paciente2 es: carloa segura\n",
      "RH del paciente2 es: A+\n"
     ]
    }
   ],
   "source": [
    "#DICCIONARIO ANIDADO\n",
    "datos_pacientes = {'paciente1':{ 'Nombre':'luis velez', 'Peso':'60kg', 'altura':'1,60m', 'edad':'32A', 'RH':'O+', 'enfermedad_cronica':'Diabetes' }}\n",
    "#IMPRIMIR DATOS\n",
    "print(datos_pacientes)\n",
    "#AGREGAR NUEVO PACIENTE\n",
    "datos_pacientes['paciente2']={ \n",
    "    'Nombre':'carloa segura',\n",
    "    'Peso':'80kg', \n",
    "    'altura':'1,80m',\n",
    "    'edad':'80A', \n",
    "    'RH':'A+',\n",
    "    'eenfermedad_cronica':'rinitis',\n",
    "    'cronica':'no'}\n",
    "\n",
    "#IMPRIMIR DATOS\n",
    "print(datos_pacientes)\n",
    "#IMPRIMIR DATOS DEL PACIENTE 1 \n",
    "nombre_paciente1= datos_pacientes['paciente1']['Nombre']\n",
    "print(f'el paciente uno es: {nombre_paciente1}')\n",
    "\n",
    "enfermedad_paciente1= datos_pacientes['paciente1']['enfermedad_cronica']\n",
    "print(f'la enfermedad de {nombre_paciente1} es: {enfermedad_paciente1}')\n",
    "\n",
    "#imprimir datos\n",
    "def imprimir_dato_paciente(paciente_id, clave):\n",
    "    if paciente_id in datos_pacientes and clave in datos_pacientes[paciente_id]:\n",
    "        print(f\"{clave} del {paciente_id} es: {datos_pacientes[paciente_id][clave]}\")\n",
    "    else:\n",
    "        print(f\"El {paciente_id} o la clave '{clave}' no existe en los datos.\")\n",
    "\n",
    "# Ejemplo de uso de la función\n",
    "imprimir_dato_paciente(  'paciente1', 'Nombre')\n",
    "imprimir_dato_paciente(  'paciente1', 'enfermedad_cronica')\n",
    "imprimir_dato_paciente(  'paciente2', 'Nombre')\n",
    "imprimir_dato_paciente(  'paciente2', 'RH')\n",
    "\n"
   ]
  },
  {
   "cell_type": "code",
   "execution_count": 13,
   "metadata": {},
   "outputs": [
    {
     "name": "stdout",
     "output_type": "stream",
     "text": [
      "['5', '4', '5', '6', '7', '5', '6', '7', '8', '6', '5']\n"
     ]
    }
   ],
   "source": [
    "mi_lista=[1,1,2,3,4,5,6,7,8,9,10]\n",
    "\n",
    "for indice, elemento in enumerate(mi_lista):\n",
    "\n",
    "  dato = input(f'agrega el elemento {indice}')\n",
    "\n",
    "  mi_lista[indice]= dato\n",
    "\n",
    "print(mi_lista)   "
   ]
  },
  {
   "cell_type": "code",
   "execution_count": 51,
   "metadata": {},
   "outputs": [
    {
     "name": "stdout",
     "output_type": "stream",
     "text": [
      "[5, 5, 10, 15, 20, 25, 30, 35, 40, 45, 50]\n"
     ]
    }
   ],
   "source": [
    "mi_lista=[1,1,2,3,4,5,6,7,8,9,10]\n",
    "\n",
    "for indice, elemento in enumerate(mi_lista):\n",
    "\n",
    "   \n",
    "\n",
    "  mi_lista[indice]= elemento*5\n",
    "\n",
    "print(mi_lista)  "
   ]
  },
  {
   "cell_type": "code",
   "execution_count": 31,
   "metadata": {},
   "outputs": [
    {
     "name": "stdout",
     "output_type": "stream",
     "text": [
      "los datos del paciente_1 son: \n",
      "nombre = Ana\n",
      "Peso_kg = 70\n",
      "altura_m = 1.8\n",
      "RH = O+\n",
      "enfermedad_cronica = ninguna\n",
      "los datos del paciente_2 son: \n",
      "nombre = Jose\n",
      "Peso_kg = 50\n",
      "altura_m = 1.6\n",
      "RH = O-\n",
      "enfermedad_cronica = asma\n",
      "los datos del paciente_3 son: \n",
      "nombre = Dario\n",
      "Peso_kg = 80\n",
      "altura_m = 1.9\n",
      "RH = AB+\n",
      "enfermedad_cronica = ninguna\n"
     ]
    }
   ],
   "source": [
    "# mi diciconario anidado\n",
    "pacientes = {'paciente_1':{'nombre':'Ana','Peso_kg':70, 'altura_m':1.80,'RH':'O+','enfermedad_cronica':'ninguna'},\n",
    "             'paciente_2':{'nombre':'Jose','Peso_kg':50, 'altura_m':1.60,'RH':'O-','enfermedad_cronica':'asma'},\n",
    "             'paciente_3':{'nombre':'Dario','Peso_kg':80, 'altura_m':1.90,'RH':'AB+','enfermedad_cronica':'ninguna'}}\n",
    "\n",
    "for paciente, datos_paciente in pacientes.items():\n",
    "  print(f\"los datos del {paciente} son: \")\n",
    "  for sub_clave, dato in datos_paciente.items():\n",
    "    print(f\"{sub_clave} = {dato}\")\n",
    "\n",
    "             "
   ]
  },
  {
   "cell_type": "code",
   "execution_count": 66,
   "metadata": {},
   "outputs": [
    {
     "name": "stdout",
     "output_type": "stream",
     "text": [
      "50.26548245743669\n"
     ]
    }
   ],
   "source": [
    "import numpy as np \n",
    "\n",
    "def calcular_area_circulo(radio):\n",
    "  area = np.pi * radio * radio\n",
    "  return area\n",
    "\n",
    "print(calcular_area_circulo(4))\n",
    " \n",
    "             \n",
    "\n",
    "             "
   ]
  },
  {
   "cell_type": "code",
   "execution_count": 68,
   "metadata": {},
   "outputs": [
    {
     "name": "stdout",
     "output_type": "stream",
     "text": [
      "50.26548245743669\n"
     ]
    }
   ],
   "source": [
    "import math\n",
    "\n",
    "def calcular_area_circulo(radio):\n",
    "  area = math.pi * radio * radio\n",
    "  return area\n",
    "\n",
    "print(calcular_area_circulo(4))"
   ]
  },
  {
   "cell_type": "code",
   "execution_count": 5,
   "metadata": {},
   "outputs": [
    {
     "name": "stdout",
     "output_type": "stream",
     "text": [
      "hola luis como estas\n"
     ]
    }
   ],
   "source": [
    "def saludar(mensaje):\n",
    " return mensaje\n",
    "\n",
    "nombre=\"luis\"\n",
    "\n",
    "print(f'hola {saludar(nombre)} como estas')\n",
    "\n"
   ]
  },
  {
   "cell_type": "code",
   "execution_count": 9,
   "metadata": {},
   "outputs": [
    {
     "data": {
      "text/plain": [
       "65"
      ]
     },
     "execution_count": 9,
     "metadata": {},
     "output_type": "execute_result"
    }
   ],
   "source": [
    "def suma_cuadrados(a,b):\n",
    " suma_c = a**2 + b**2\n",
    " return  suma_c\n",
    "\n",
    "suma_cuadrados(4,7)"
   ]
  },
  {
   "cell_type": "code",
   "execution_count": 12,
   "metadata": {},
   "outputs": [
    {
     "data": {
      "text/plain": [
       "True"
      ]
     },
     "execution_count": 12,
     "metadata": {},
     "output_type": "execute_result"
    }
   ],
   "source": [
    "def es_primo(numero):\n",
    "  if numero<2:\n",
    "    return False\n",
    "  for i in range(2, numero):\n",
    "     if  (numero % i)== 0:\n",
    "        return False\n",
    "  # Hemos agotado el bucle sin encontrar divisores\n",
    "  return True\n",
    "\n",
    "es_primo(2)\n",
    " "
   ]
  },
  {
   "cell_type": "code",
   "execution_count": 16,
   "metadata": {},
   "outputs": [
    {
     "name": "stdout",
     "output_type": "stream",
     "text": [
      "1 x 2 = 2\n",
      "2 x 2 = 4\n",
      "3 x 2 = 6\n",
      "4 x 2 = 8\n",
      "5 x 2 = 10\n",
      "6 x 2 = 12\n",
      "7 x 2 = 14\n",
      "8 x 2 = 16\n",
      "9 x 2 = 18\n",
      "10 x 2 = 20\n"
     ]
    }
   ],
   "source": [
    "def multipicacion(a):\n",
    "    for i in range(1,11):\n",
    "        print(f\"{i} x {a} = {i*a}\")\n",
    "multipicacion(2)"
   ]
  },
  {
   "cell_type": "code",
   "execution_count": 40,
   "metadata": {},
   "outputs": [
    {
     "name": "stdout",
     "output_type": "stream",
     "text": [
      "El resultado de la multiplicación de 5 y 7 es: 35\n"
     ]
    }
   ],
   "source": [
    " \n",
    "\n",
    "# Obtener entrada del usuario\n",
    "a = int(input(\"Ingrese el primer número: \"))\n",
    "b = int(input(\"Ingrese el segundo número: \"))\n",
    "\n",
    "# Realizar la multiplicación\n",
    "def multiplicar(a, b):\n",
    "    return a * b\n",
    "\n",
    "# Mostrar el resultado\n",
    "print(f\"El resultado de la multiplicación de {a} y {b} es: {multiplicar(a, b)}\")"
   ]
  },
  {
   "cell_type": "code",
   "execution_count": 8,
   "metadata": {},
   "outputs": [
    {
     "name": "stdout",
     "output_type": "stream",
     "text": [
      "True\n"
     ]
    }
   ],
   "source": [
    "def is_leap(year):\n",
    "    leap = False\n",
    "    \n",
    "    if year % 4 == 0:\n",
    "        leap = True\n",
    "        if year % 100 == 0:\n",
    "            leap = False\n",
    "            if year % 400 == 0:\n",
    "                leap = True\n",
    "    \n",
    "    return leap\n",
    "\n",
    "year = int(input())\n",
    "print(is_leap(year))"
   ]
  },
  {
   "cell_type": "code",
   "execution_count": null,
   "metadata": {},
   "outputs": [
    {
     "name": "stdout",
     "output_type": "stream",
     "text": [
      "(False, 'valor invierno=', 40.0, 'valor verano=', 93.6842105263158, 'La mejor fecha de compra es en invierno')\n"
     ]
    }
   ],
   "source": [
    "'''El problema me pide comparar los precios en invierno y verano para determinar la mejor fecha de compra. Necesito dos datos: el precio de la\n",
    " prenda con descuento y el porcentaje de descuento.\n",
    "\n",
    "En invierno: 34 euros con un 15% de descuento, es decir 0.15\n",
    "En verano: 30 euros con un 5% de descuento, es decir 0.05\n",
    "\n",
    "Para responder, debo comparar los valores y determinar si uno es menor que el otro, devolviendo verdadero o falso.\n",
    "Si el valor en verano es menor que en invierno  obtengo verdadero y significa que me conviene comprar; falso, que no.\n",
    "\n",
    "Para resolverlo en Python, primero determino una ecuación: precio_original = valor_con_descuento / (1 - porcentaje_descuento).\n",
    "\n",
    "Precio invierno = 34 / (1 - 0.15) = 40 euros\n",
    "Precio verano = 30 / (1 - 0.05) = 31.58 euros (aproximadamente)\n",
    "\n",
    "Como 40 > 31.57, la mejor fecha de compra es en verano.\n",
    "'''\n",
    "def mejor_compra(precio_invierno, descuento_invierno, precio_verano, descuento_verano):\n",
    "   \n",
    "    precio_original_invierno = precio_invierno / (1 - descuento_invierno)\n",
    "     \n",
    "    precio_original_verano = precio_verano / (1 - descuento_verano)\n",
    "\n",
    "    if precio_original_verano < precio_original_invierno:\n",
    "       return True, \"valor invierno=\",precio_original_invierno,\"valor verano=\", precio_original_verano,\"La mejor fecha de compra es en verano\"\n",
    "    else:\n",
    "       return False,\"valor invierno=\",precio_original_invierno,\"valor verano=\", precio_original_verano,\"La mejor fecha de compra es en invierno\"\n",
    "\n",
    "      \n",
    " \n",
    "# Datos de entrada\n",
    "precio_invierno = 34\n",
    "descuento_invierno = 0.15\n",
    "precio_verano = 30\n",
    "descuento_verano =0.05\n",
    "\n",
    " \n",
    "print(mejor_compra(precio_invierno, descuento_invierno, precio_verano, descuento_verano))"
   ]
  }
 ],
 "metadata": {
  "kernelspec": {
   "display_name": "Python 3",
   "language": "python",
   "name": "python3"
  },
  "language_info": {
   "codemirror_mode": {
    "name": "ipython",
    "version": 3
   },
   "file_extension": ".py",
   "mimetype": "text/x-python",
   "name": "python",
   "nbconvert_exporter": "python",
   "pygments_lexer": "ipython3",
   "version": "3.13.2"
  }
 },
 "nbformat": 4,
 "nbformat_minor": 2
}

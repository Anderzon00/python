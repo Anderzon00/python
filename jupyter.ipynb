{
 "cells": [
  {
   "cell_type": "code",
   "execution_count": 1,
   "metadata": {},
   "outputs": [
    {
     "name": "stdout",
     "output_type": "stream",
     "text": [
      "1 x 2= 2\n",
      "2 x 2= 4\n",
      "3 x 2= 6\n",
      "4 x 2= 8\n",
      "5 x 2= 10\n",
      "6 x 2= 12\n",
      "7 x 2= 14\n",
      "8 x 2= 16\n",
      "9 x 2= 18\n",
      "10 x 2= 20\n",
      "11 x 2= 22\n",
      "12 x 2= 24\n",
      "13 x 2= 26\n",
      "14 x 2= 28\n",
      "15 x 2= 30\n",
      "16 x 2= 32\n",
      "17 x 2= 34\n",
      "18 x 2= 36\n",
      "19 x 2= 38\n",
      "20 x 2= 40\n",
      "21 x 2= 42\n",
      "22 x 2= 44\n",
      "23 x 2= 46\n",
      "24 x 2= 48\n",
      "25 x 2= 50\n",
      "26 x 2= 52\n",
      "27 x 2= 54\n",
      "28 x 2= 56\n",
      "29 x 2= 58\n",
      "30 x 2= 60\n",
      "31 x 2= 62\n",
      "32 x 2= 64\n",
      "33 x 2= 66\n",
      "34 x 2= 68\n",
      "35 x 2= 70\n",
      "36 x 2= 72\n",
      "37 x 2= 74\n",
      "38 x 2= 76\n",
      "39 x 2= 78\n",
      "40 x 2= 80\n",
      "41 x 2= 82\n",
      "42 x 2= 84\n",
      "43 x 2= 86\n",
      "44 x 2= 88\n",
      "45 x 2= 90\n",
      "46 x 2= 92\n",
      "47 x 2= 94\n",
      "48 x 2= 96\n",
      "49 x 2= 98\n",
      "50 x 2= 100\n",
      "51 x 2= 102\n",
      "52 x 2= 104\n",
      "53 x 2= 106\n",
      "54 x 2= 108\n",
      "55 x 2= 110\n",
      "56 x 2= 112\n",
      "57 x 2= 114\n",
      "58 x 2= 116\n",
      "59 x 2= 118\n",
      "60 x 2= 120\n",
      "61 x 2= 122\n",
      "62 x 2= 124\n",
      "63 x 2= 126\n",
      "64 x 2= 128\n",
      "65 x 2= 130\n",
      "66 x 2= 132\n",
      "67 x 2= 134\n",
      "68 x 2= 136\n",
      "69 x 2= 138\n",
      "70 x 2= 140\n",
      "71 x 2= 142\n",
      "72 x 2= 144\n",
      "73 x 2= 146\n",
      "74 x 2= 148\n",
      "75 x 2= 150\n",
      "76 x 2= 152\n",
      "77 x 2= 154\n",
      "78 x 2= 156\n",
      "79 x 2= 158\n",
      "80 x 2= 160\n",
      "81 x 2= 162\n",
      "82 x 2= 164\n",
      "83 x 2= 166\n",
      "84 x 2= 168\n",
      "85 x 2= 170\n",
      "86 x 2= 172\n",
      "87 x 2= 174\n",
      "88 x 2= 176\n",
      "89 x 2= 178\n",
      "90 x 2= 180\n",
      "91 x 2= 182\n",
      "92 x 2= 184\n",
      "93 x 2= 186\n",
      "94 x 2= 188\n",
      "95 x 2= 190\n",
      "96 x 2= 192\n",
      "97 x 2= 194\n",
      "98 x 2= 196\n",
      "99 x 2= 198\n"
     ]
    }
   ],
   "source": [
    "for i in range (1,100):\n",
    "    print ( i,\"x 2=\",i*2)"
   ]
  },
  {
   "cell_type": "markdown",
   "metadata": {},
   "source": [
    "ejercicios contenedores"
   ]
  },
  {
   "cell_type": "code",
   "execution_count": 2,
   "metadata": {},
   "outputs": [
    {
     "name": "stdout",
     "output_type": "stream",
     "text": [
      "['1', '2', '3', '4', '5']\n"
     ]
    }
   ],
   "source": [
    "# crear lista\n",
    "mi_lista=[ ]\n",
    "#agregar elementos con la funcion append()\n",
    "mi_lista.append(\"1\")\n",
    "mi_lista.append(\"2\")\n",
    "mi_lista.append(\"3\")\n",
    "mi_lista.append(\"4\")\n",
    "mi_lista.append(\"5\")\n",
    "print(mi_lista)"
   ]
  },
  {
   "cell_type": "code",
   "execution_count": 3,
   "metadata": {},
   "outputs": [
    {
     "name": "stdout",
     "output_type": "stream",
     "text": [
      "Los elementos introducidos son: ['1', '2', '3', '4', '5']\n",
      "Los elementos nuevos son: ['1', '2', '3', '4']\n"
     ]
    }
   ],
   "source": [
    "# Usar un bucle  para pedir al usuario 5 elementos\n",
    "mi_lista=[ ]\n",
    "\n",
    "for i in range(5):\n",
    "    # Pedir al usuario que ingrese un elemento\n",
    "    elemento = input(f\"Introduce el elemento {i+1}: \")\n",
    "    # Agregar el elemento a la lista\n",
    "    mi_lista.append(elemento)\n",
    "\n",
    "# Imprimir la lista de elementos\n",
    "print(\"Los elementos introducidos son:\", mi_lista)\n",
    "elemento_eliminar = input(f\"Introduce el elemento: \")\n",
    "mi_lista.remove(elemento_eliminar)\n",
    "print(\"Los elementos nuevos son:\", mi_lista)"
   ]
  },
  {
   "cell_type": "code",
   "execution_count": 10,
   "metadata": {},
   "outputs": [
    {
     "name": "stdout",
     "output_type": "stream",
     "text": [
      "primeros tres elementos [1, 2, 3]\n",
      "primeros elementos 3 al 6  [3, 4, 5, 6]\n",
      "ultimos  dos elementos [9, 10]\n"
     ]
    }
   ],
   "source": [
    "mi_lista= [1,2,3,4,5,6,7,8,9,10]\n",
    "print(\"primeros tres elementos\",mi_lista[0:3])\n",
    "print(\"primeros elementos 3 al 6 \",mi_lista[2:6])\n",
    "print(\"ultimos  dos elementos\",mi_lista[-2:])"
   ]
  },
  {
   "cell_type": "code",
   "execution_count": 28,
   "metadata": {},
   "outputs": [
    {
     "name": "stdout",
     "output_type": "stream",
     "text": [
      "la lista de contactos es ['carlos', 'andres', 'luis', 'paul', 'sebastian']\n",
      "la lista de numeros es [314321232, 315321232, 3004323432, 3134432234, 3215543323]\n",
      "la nueva lista de contactos es ['carlos', 'andres', 'luis', 'paul', 'sebastian', 'teresa', 'maria', 'sofia']\n",
      "la  nueva lista de numeros  es [314321232, 315321232, 3004323432, 3134432234, 3215543323, 3212232337, 3012232232, 3212234349] \n",
      "la lista contactos modfificados es ['andres', 'jimena', 'mauro', 'paul', 'sebastian', 'teresa', 'maria', 'sofia']\n",
      "la lista de numeros modfificados es [3212232323, 3143257867, 3023432232, 3134432234, 3215543323, 3212232337, 3012232232, 3212234349] \n",
      "la lista contactos eliminados es ['mauro', 'paul', 'sebastian', 'teresa', 'maria', 'sofia']\n",
      "la lista de numeros eliminados es [3023432232, 3134432234, 3215543323, 3212232337, 3012232232, 3212234349] \n",
      "la lista contactos eliminados es ['mauro', 'paul', 'sebastian']\n",
      "la lista de numeros eliminados es [3023432232, 3134432234, 3215543323] \n"
     ]
    }
   ],
   "source": [
    "#creación de listas de contactos y números\n",
    "lista_contactos= [\"carlos\",\"andres\",\"luis\",\"paul\",\"sebastian\"]\n",
    "lista_numeros= [314321232,315321232,3004323432,3134432234,3215543323]\n",
    "print(\"la lista de contactos es\", lista_contactos )\n",
    "print(\"la lista de numeros es\", lista_numeros )\n",
    "\n",
    "#añadir tres elementos a cada lista\n",
    "lista_contactos.append(\"teresa\" )\n",
    "lista_contactos.append( \"maria\" )\n",
    "lista_contactos.append( \"sofia\")\n",
    "lista_numeros.append(3212232337 )\n",
    "lista_numeros.append(3012232232)\n",
    "lista_numeros.append(3212234349)\n",
    "\n",
    "print(f\"la nueva lista de contactos es {lista_contactos}\")\n",
    "print(f\"la  nueva lista de numeros  es {lista_numeros} \")\n",
    "\n",
    "#editar o modificar tres primeros elementos \n",
    "lista_contactos[0]=\"andres\"\n",
    "lista_contactos[1]=\"jimena\"\n",
    "lista_contactos[2]=\"mauro\"\n",
    "lista_numeros[0]=3212232323\n",
    "lista_numeros[1]=3143257867\n",
    "lista_numeros[2]=3023432232\n",
    "print(f\"la lista contactos modfificados es {lista_contactos}\")\n",
    "print(f\"la lista de numeros modfificados es {lista_numeros} \")\n",
    "\n",
    "#elininar dos elementos de cada lista\n",
    "lista_contactos.remove(\"andres\")\n",
    "lista_contactos.remove(\"jimena\")\n",
    "lista_numeros.remove(3212232323)\n",
    "lista_numeros.remove(3143257867)\n",
    "\n",
    "print(f\"la lista contactos eliminados es {lista_contactos}\")\n",
    "print(f\"la lista de numeros eliminados es {lista_numeros} \")\n",
    "\n",
    "#dejar solo tres elementos de cada lista \n",
    "\n",
    "nueva_lista_contactos=lista_contactos[:3]\n",
    "nueva_lista_numeros=lista_numeros[:3]\n",
    "\n",
    "print(f\"la lista contactos eliminados es {nueva_lista_contactos}\")\n",
    "print(f\"la lista de numeros eliminados es {nueva_lista_numeros} \")"
   ]
  },
  {
   "cell_type": "markdown",
   "metadata": {},
   "source": [
    "ejercicios tuplas"
   ]
  },
  {
   "cell_type": "code",
   "execution_count": 29,
   "metadata": {},
   "outputs": [
    {
     "name": "stdout",
     "output_type": "stream",
     "text": [
      "('enere', 'febrero', 'marzo')\n"
     ]
    }
   ],
   "source": [
    "#crear una tuplacon tres elementos, intentar modificar elementos \n",
    "\n",
    "mi_tupla= ( \"enere\",\"febrero\",\"marzo\")\n",
    "print(mi_tupla)\n"
   ]
  },
  {
   "cell_type": "markdown",
   "metadata": {},
   "source": [
    " "
   ]
  },
  {
   "cell_type": "code",
   "execution_count": 4,
   "metadata": {},
   "outputs": [
    {
     "name": "stdout",
     "output_type": "stream",
     "text": [
      "{'paciente1': {'Nombre': 'luis velez', 'Peso': '60kg', 'altura': '1,60m', 'edad': '32A', 'RH': 'O+', 'enfermedad_cronica': 'Diabetes'}}\n",
      "{'paciente1': {'Nombre': 'luis velez', 'Peso': '60kg', 'altura': '1,60m', 'edad': '32A', 'RH': 'O+', 'enfermedad_cronica': 'Diabetes'}, 'paciente2': {'Nombre': 'carloa segura', 'Peso': '80kg', 'altura': '1,80m', 'edad': '80A', 'RH': 'A+', 'eenfermedad_cronica': 'rinitis', 'cronica': 'no'}}\n",
      "el paciente uno es: luis velez\n",
      "la enfermedad de luis velez es: Diabetes\n",
      "Nombre del paciente1 es: luis velez\n",
      "enfermedad_cronica del paciente1 es: Diabetes\n",
      "Nombre del paciente2 es: carloa segura\n",
      "RH del paciente2 es: A+\n"
     ]
    }
   ],
   "source": [
    "#DICCIONARIO ANIDADO\n",
    "datos_pacientes = {'paciente1':{ 'Nombre':'luis velez', 'Peso':'60kg', 'altura':'1,60m', 'edad':'32A', 'RH':'O+', 'enfermedad_cronica':'Diabetes' }}\n",
    "#IMPRIMIR DATOS\n",
    "print(datos_pacientes)\n",
    "#AGREGAR NUEVO PACIENTE\n",
    "datos_pacientes['paciente2']={ \n",
    "    'Nombre':'carloa segura',\n",
    "    'Peso':'80kg', \n",
    "    'altura':'1,80m',\n",
    "    'edad':'80A', \n",
    "    'RH':'A+',\n",
    "    'eenfermedad_cronica':'rinitis',\n",
    "    'cronica':'no'}\n",
    "\n",
    "#IMPRIMIR DATOS\n",
    "print(datos_pacientes)\n",
    "#IMPRIMIR DATOS DEL PACIENTE 1 \n",
    "nombre_paciente1= datos_pacientes['paciente1']['Nombre']\n",
    "print(f'el paciente uno es: {nombre_paciente1}')\n",
    "\n",
    "enfermedad_paciente1= datos_pacientes['paciente1']['enfermedad_cronica']\n",
    "print(f'la enfermedad de {nombre_paciente1} es: {enfermedad_paciente1}')\n",
    "\n",
    "#imprimir datos\n",
    "def imprimir_dato_paciente(paciente_id, clave):\n",
    "    if paciente_id in datos_pacientes and clave in datos_pacientes[paciente_id]:\n",
    "        print(f\"{clave} del {paciente_id} es: {datos_pacientes[paciente_id][clave]}\")\n",
    "    else:\n",
    "        print(f\"El {paciente_id} o la clave '{clave}' no existe en los datos.\")\n",
    "\n",
    "# Ejemplo de uso de la función\n",
    "imprimir_dato_paciente(  'paciente1', 'Nombre')\n",
    "imprimir_dato_paciente(  'paciente1', 'enfermedad_cronica')\n",
    "imprimir_dato_paciente(  'paciente2', 'Nombre')\n",
    "imprimir_dato_paciente(  'paciente2', 'RH')\n",
    "\n"
   ]
  },
  {
   "cell_type": "code",
   "execution_count": 13,
   "metadata": {},
   "outputs": [
    {
     "name": "stdout",
     "output_type": "stream",
     "text": [
      "['5', '4', '5', '6', '7', '5', '6', '7', '8', '6', '5']\n"
     ]
    }
   ],
   "source": [
    "mi_lista=[1,1,2,3,4,5,6,7,8,9,10]\n",
    "\n",
    "for indice, elemento in enumerate(mi_lista):\n",
    "\n",
    "  dato = input(f'agrega el elemento {indice}')\n",
    "\n",
    "  mi_lista[indice]= dato\n",
    "\n",
    "print(mi_lista)   "
   ]
  },
  {
   "cell_type": "code",
   "execution_count": 51,
   "metadata": {},
   "outputs": [
    {
     "name": "stdout",
     "output_type": "stream",
     "text": [
      "[5, 5, 10, 15, 20, 25, 30, 35, 40, 45, 50]\n"
     ]
    }
   ],
   "source": [
    "mi_lista=[1,1,2,3,4,5,6,7,8,9,10]\n",
    "\n",
    "for indice, elemento in enumerate(mi_lista):\n",
    "\n",
    "   \n",
    "\n",
    "  mi_lista[indice]= elemento*5\n",
    "\n",
    "print(mi_lista)  "
   ]
  },
  {
   "cell_type": "code",
   "execution_count": 31,
   "metadata": {},
   "outputs": [
    {
     "name": "stdout",
     "output_type": "stream",
     "text": [
      "los datos del paciente_1 son: \n",
      "nombre = Ana\n",
      "Peso_kg = 70\n",
      "altura_m = 1.8\n",
      "RH = O+\n",
      "enfermedad_cronica = ninguna\n",
      "los datos del paciente_2 son: \n",
      "nombre = Jose\n",
      "Peso_kg = 50\n",
      "altura_m = 1.6\n",
      "RH = O-\n",
      "enfermedad_cronica = asma\n",
      "los datos del paciente_3 son: \n",
      "nombre = Dario\n",
      "Peso_kg = 80\n",
      "altura_m = 1.9\n",
      "RH = AB+\n",
      "enfermedad_cronica = ninguna\n"
     ]
    }
   ],
   "source": [
    "# mi diciconario anidado\n",
    "pacientes = {'paciente_1':{'nombre':'Ana','Peso_kg':70, 'altura_m':1.80,'RH':'O+','enfermedad_cronica':'ninguna'},\n",
    "             'paciente_2':{'nombre':'Jose','Peso_kg':50, 'altura_m':1.60,'RH':'O-','enfermedad_cronica':'asma'},\n",
    "             'paciente_3':{'nombre':'Dario','Peso_kg':80, 'altura_m':1.90,'RH':'AB+','enfermedad_cronica':'ninguna'}}\n",
    "\n",
    "for paciente, datos_paciente in pacientes.items():\n",
    "  print(f\"los datos del {paciente} son: \")\n",
    "  for sub_clave, dato in datos_paciente.items():\n",
    "    print(f\"{sub_clave} = {dato}\")\n",
    "\n",
    "             "
   ]
  },
  {
   "cell_type": "code",
   "execution_count": 66,
   "metadata": {},
   "outputs": [
    {
     "name": "stdout",
     "output_type": "stream",
     "text": [
      "50.26548245743669\n"
     ]
    }
   ],
   "source": [
    "import numpy as np \n",
    "\n",
    "def calcular_area_circulo(radio):\n",
    "  area = np.pi * radio * radio\n",
    "  return area\n",
    "\n",
    "print(calcular_area_circulo(4))\n",
    " \n",
    "             \n",
    "\n",
    "             "
   ]
  },
  {
   "cell_type": "code",
   "execution_count": 68,
   "metadata": {},
   "outputs": [
    {
     "name": "stdout",
     "output_type": "stream",
     "text": [
      "50.26548245743669\n"
     ]
    }
   ],
   "source": [
    "import math\n",
    "\n",
    "def calcular_area_circulo(radio):\n",
    "  area = math.pi * radio * radio\n",
    "  return area\n",
    "\n",
    "print(calcular_area_circulo(4))"
   ]
  },
  {
   "cell_type": "code",
   "execution_count": 5,
   "metadata": {},
   "outputs": [
    {
     "name": "stdout",
     "output_type": "stream",
     "text": [
      "hola luis como estas\n"
     ]
    }
   ],
   "source": [
    "def saludar(mensaje):\n",
    " return mensaje\n",
    "\n",
    "nombre=\"luis\"\n",
    "\n",
    "print(f'hola {saludar(nombre)} como estas')\n",
    "\n"
   ]
  },
  {
   "cell_type": "code",
   "execution_count": 9,
   "metadata": {},
   "outputs": [
    {
     "data": {
      "text/plain": [
       "65"
      ]
     },
     "execution_count": 9,
     "metadata": {},
     "output_type": "execute_result"
    }
   ],
   "source": [
    "def suma_cuadrados(a,b):\n",
    " suma_c = a**2 + b**2\n",
    " return  suma_c\n",
    "\n",
    "suma_cuadrados(4,7)"
   ]
  },
  {
   "cell_type": "code",
   "execution_count": 12,
   "metadata": {},
   "outputs": [
    {
     "data": {
      "text/plain": [
       "True"
      ]
     },
     "execution_count": 12,
     "metadata": {},
     "output_type": "execute_result"
    }
   ],
   "source": [
    "def es_primo(numero):\n",
    "  if numero<2:\n",
    "    return False\n",
    "  for i in range(2, numero):\n",
    "     if  (numero % i)== 0:\n",
    "        return False\n",
    "  # Hemos agotado el bucle sin encontrar divisores\n",
    "  return True\n",
    "\n",
    "es_primo(2)\n",
    " "
   ]
  },
  {
   "cell_type": "code",
   "execution_count": 16,
   "metadata": {},
   "outputs": [
    {
     "name": "stdout",
     "output_type": "stream",
     "text": [
      "1 x 2 = 2\n",
      "2 x 2 = 4\n",
      "3 x 2 = 6\n",
      "4 x 2 = 8\n",
      "5 x 2 = 10\n",
      "6 x 2 = 12\n",
      "7 x 2 = 14\n",
      "8 x 2 = 16\n",
      "9 x 2 = 18\n",
      "10 x 2 = 20\n"
     ]
    }
   ],
   "source": [
    "def multipicacion(a):\n",
    "    for i in range(1,11):\n",
    "        print(f\"{i} x {a} = {i*a}\")\n",
    "multipicacion(2)"
   ]
  },
  {
   "cell_type": "code",
   "execution_count": 40,
   "metadata": {},
   "outputs": [
    {
     "name": "stdout",
     "output_type": "stream",
     "text": [
      "El resultado de la multiplicación de 5 y 7 es: 35\n"
     ]
    }
   ],
   "source": [
    " \n",
    "\n",
    "# Obtener entrada del usuario\n",
    "a = int(input(\"Ingrese el primer número: \"))\n",
    "b = int(input(\"Ingrese el segundo número: \"))\n",
    "\n",
    "# Realizar la multiplicación\n",
    "def multiplicar(a, b):\n",
    "    return a * b\n",
    "\n",
    "# Mostrar el resultado\n",
    "print(f\"El resultado de la multiplicación de {a} y {b} es: {multiplicar(a, b)}\")"
   ]
  }
 ],
 "metadata": {
  "kernelspec": {
   "display_name": "Python 3",
   "language": "python",
   "name": "python3"
  },
  "language_info": {
   "codemirror_mode": {
    "name": "ipython",
    "version": 3
   },
   "file_extension": ".py",
   "mimetype": "text/x-python",
   "name": "python",
   "nbconvert_exporter": "python",
   "pygments_lexer": "ipython3",
   "version": "3.13.2"
  }
 },
 "nbformat": 4,
 "nbformat_minor": 2
}
